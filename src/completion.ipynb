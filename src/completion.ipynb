{
 "cells": [
  {
   "cell_type": "code",
   "execution_count": null,
   "metadata": {},
   "outputs": [],
   "source": [
    "from collections import Counter\n",
    "from pathlib import Path\n",
    "import pickle\n",
    "\n",
    "import torch\n",
    "import numpy as np\n",
    "import matplotlib as mpl\n",
    "import matplotlib.pyplot as plt\n",
    "from sklearn import manifold\n",
    "import dgl\n",
    "from tqdm.auto import tqdm\n",
    "\n",
    "from train import MultiSAGEModel, PinSAGECollator"
   ]
  },
  {
   "cell_type": "code",
   "execution_count": null,
   "metadata": {},
   "outputs": [],
   "source": [
    "datapath = Path('..', 'data')"
   ]
  },
  {
   "cell_type": "code",
   "execution_count": null,
   "metadata": {},
   "outputs": [],
   "source": [
    "with open(datapath / 'dataset.pkl', 'rb') as f:\n",
    "    dataset = pickle.load(f)"
   ]
  },
  {
   "cell_type": "code",
   "execution_count": null,
   "metadata": {},
   "outputs": [],
   "source": [
    "with open(datapath / 'cuisine.pkl', 'rb') as f:\n",
    "    cuisine = pickle.load(f)\n",
    "\n",
    "with open(datapath / 'ingredient.pkl', 'rb') as f:\n",
    "    ingredient = pickle.load(f)"
   ]
  },
  {
   "cell_type": "code",
   "execution_count": null,
   "metadata": {},
   "outputs": [],
   "source": [
    "graph = dgl.load_graphs(str(datapath / 'graph.bin'))[0][0]\n",
    "graph"
   ]
  },
  {
   "cell_type": "code",
   "execution_count": null,
   "metadata": {},
   "outputs": [],
   "source": [
    "model = MultiSAGEModel(\n",
    "    graph,\n",
    "    'ingredient',\n",
    "    'recipe',\n",
    "    'cuisine',\n",
    "    256,\n",
    "    2,\n",
    "    3,\n",
    ")\n",
    "model.load_state_dict(torch.load(\n",
    "    Path('..', 'saved', '39_3model_state_dict.pt'),\n",
    "    map_location=torch.device('cpu')\n",
    "))"
   ]
  },
  {
   "cell_type": "code",
   "execution_count": null,
   "metadata": {},
   "outputs": [],
   "source": [
    "ingredient = ingredient.detach().numpy().astype('float')"
   ]
  },
  {
   "cell_type": "code",
   "execution_count": null,
   "metadata": {},
   "outputs": [],
   "source": [
    "h_item = ingredient"
   ]
  },
  {
   "cell_type": "code",
   "execution_count": null,
   "metadata": {},
   "outputs": [],
   "source": [
    "def ingredient_scores(ingredients):\n",
    "    scores = []\n",
    "    for new_ingredient in range(graph.number_of_nodes('ingredient')):\n",
    "        score = 0\n",
    "        for ingredient in ingredients:\n",
    "            score += (\n",
    "                np.dot(h_item[ingredient], h_item[new_ingredient])\n",
    "                + model.node_scorer.bias[ingredient]\n",
    "                + model.node_scorer.bias[new_ingredient])\n",
    "        scores.append(score)\n",
    "    return scores"
   ]
  },
  {
   "cell_type": "code",
   "execution_count": null,
   "metadata": {},
   "outputs": [],
   "source": [
    "all_scores = []\n",
    "for recipe in enumerate(dataset['X_cmp_val']):\n",
    "    all_scores.append(ingredient_scores(recipe))"
   ]
  },
  {
   "cell_type": "code",
   "execution_count": null,
   "metadata": {},
   "outputs": [],
   "source": [
    "dataset['y_cmp_val']"
   ]
  },
  {
   "cell_type": "code",
   "execution_count": null,
   "metadata": {},
   "outputs": [],
   "source": []
  }
 ],
 "metadata": {
  "interpreter": {
   "hash": "5fe6ca38b531acce9745ef8eb50338f8e5d65d428710d131aa398878dc982c83"
  },
  "kernelspec": {
   "display_name": "Python 3.8.10 ('venv')",
   "language": "python",
   "name": "python3"
  },
  "language_info": {
   "codemirror_mode": {
    "name": "ipython",
    "version": 3
   },
   "file_extension": ".py",
   "mimetype": "text/x-python",
   "name": "python",
   "nbconvert_exporter": "python",
   "pygments_lexer": "ipython3",
   "version": "3.8.10"
  },
  "orig_nbformat": 4
 },
 "nbformat": 4,
 "nbformat_minor": 2
}
