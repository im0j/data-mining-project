{
 "cells": [
  {
   "cell_type": "code",
   "execution_count": 39,
   "metadata": {},
   "outputs": [],
   "source": [
    "from collections import Counter\n",
    "from pathlib import Path\n",
    "import pickle\n",
    "\n",
    "import torch\n",
    "import numpy as np\n",
    "import matplotlib as mpl\n",
    "import matplotlib.pyplot as plt\n",
    "import dgl\n",
    "from tqdm.auto import tqdm\n",
    "from scipy.special import softmax\n",
    "\n",
    "from train import MultiSAGEModel"
   ]
  },
  {
   "cell_type": "code",
   "execution_count": 2,
   "metadata": {},
   "outputs": [],
   "source": [
    "datapath = Path('..', 'data')"
   ]
  },
  {
   "cell_type": "code",
   "execution_count": 3,
   "metadata": {},
   "outputs": [],
   "source": [
    "with open(datapath / 'dataset.pkl', 'rb') as f:\n",
    "    dataset = pickle.load(f)"
   ]
  },
  {
   "cell_type": "code",
   "execution_count": 4,
   "metadata": {},
   "outputs": [],
   "source": [
    "with open(datapath / 'cuisine.pkl', 'rb') as f:\n",
    "    cuisine = pickle.load(f)\n",
    "\n",
    "with open(datapath / 'ingredient.pkl', 'rb') as f:\n",
    "    ingredient = pickle.load(f)"
   ]
  },
  {
   "cell_type": "code",
   "execution_count": 5,
   "metadata": {},
   "outputs": [
    {
     "data": {
      "text/plain": [
       "Graph(num_nodes={'cuisine': 20, 'ingredient': 6714, 'recipe': 23547},\n",
       "      num_edges={('cuisine', 'c2r', 'recipe'): 23547, ('ingredient', 'i2r', 'recipe'): 253459, ('recipe', 'r2c', 'cuisine'): 23547, ('recipe', 'r2i', 'ingredient'): 253459},\n",
       "      metagraph=[('cuisine', 'recipe', 'c2r'), ('recipe', 'cuisine', 'r2c'), ('recipe', 'ingredient', 'r2i'), ('ingredient', 'recipe', 'i2r')])"
      ]
     },
     "execution_count": 5,
     "metadata": {},
     "output_type": "execute_result"
    }
   ],
   "source": [
    "graph = dgl.load_graphs(str(datapath / 'graph.bin'))[0][0]\n",
    "graph"
   ]
  },
  {
   "cell_type": "code",
   "execution_count": 6,
   "metadata": {},
   "outputs": [
    {
     "data": {
      "text/plain": [
       "<All keys matched successfully>"
      ]
     },
     "execution_count": 6,
     "metadata": {},
     "output_type": "execute_result"
    }
   ],
   "source": [
    "model = MultiSAGEModel(\n",
    "    graph,\n",
    "    'ingredient',\n",
    "    'recipe',\n",
    "    'cuisine',\n",
    "    256,\n",
    "    2,\n",
    "    3,\n",
    ")\n",
    "model.load_state_dict(torch.load(\n",
    "    Path('..', 'saved', '39_3model_state_dict.pt'),\n",
    "    map_location=torch.device('cpu')\n",
    "))"
   ]
  },
  {
   "cell_type": "code",
   "execution_count": 7,
   "metadata": {},
   "outputs": [],
   "source": [
    "ingredient = ingredient.detach().numpy().astype('float')"
   ]
  },
  {
   "cell_type": "code",
   "execution_count": 8,
   "metadata": {},
   "outputs": [],
   "source": [
    "h_item = ingredient"
   ]
  },
  {
   "cell_type": "code",
   "execution_count": 13,
   "metadata": {},
   "outputs": [
    {
     "data": {
      "text/plain": [
       "(2, 256)"
      ]
     },
     "execution_count": 13,
     "metadata": {},
     "output_type": "execute_result"
    }
   ],
   "source": [
    "h_item[[1,2]].shape"
   ]
  },
  {
   "cell_type": "code",
   "execution_count": 15,
   "metadata": {},
   "outputs": [],
   "source": [
    "ingredients = dataset['X_cmp_val'][0]"
   ]
  },
  {
   "cell_type": "code",
   "execution_count": 21,
   "metadata": {},
   "outputs": [],
   "source": [
    "biases = model.node_scorer.bias.detach().numpy().astype('float')"
   ]
  },
  {
   "cell_type": "code",
   "execution_count": 36,
   "metadata": {},
   "outputs": [],
   "source": [
    "def ingredient_scores(ingredients):\n",
    "    scores = np.dot(h_item[ingredients], h_item.T) + biases[ingredients].reshape(-1, 1) + biases\n",
    "    scores = scores.sum(axis=0)\n",
    "    return scores"
   ]
  },
  {
   "cell_type": "code",
   "execution_count": 37,
   "metadata": {},
   "outputs": [
    {
     "data": {
      "application/vnd.jupyter.widget-view+json": {
       "model_id": "4f76dead1b3a43ac8ade094e777ff19a",
       "version_major": 2,
       "version_minor": 0
      },
      "text/plain": [
       "  0%|          | 0/7848 [00:00<?, ?it/s]"
      ]
     },
     "metadata": {},
     "output_type": "display_data"
    }
   ],
   "source": [
    "all_scores = []\n",
    "for i, recipe in enumerate(tqdm(dataset['X_cmp_val'])):\n",
    "    all_scores.append(ingredient_scores(recipe))"
   ]
  },
  {
   "cell_type": "code",
   "execution_count": 40,
   "metadata": {},
   "outputs": [],
   "source": [
    "all_scores = np.array(all_scores)"
   ]
  },
  {
   "cell_type": "code",
   "execution_count": 41,
   "metadata": {},
   "outputs": [
    {
     "data": {
      "text/plain": [
       "(7848, 6714)"
      ]
     },
     "execution_count": 41,
     "metadata": {},
     "output_type": "execute_result"
    }
   ],
   "source": [
    "all_scores.shape"
   ]
  },
  {
   "cell_type": "code",
   "execution_count": 47,
   "metadata": {},
   "outputs": [],
   "source": [
    "probs = softmax(all_scores, axis=1)\n"
   ]
  },
  {
   "cell_type": "code",
   "execution_count": 51,
   "metadata": {},
   "outputs": [
    {
     "data": {
      "text/plain": [
       "array([[2.22572195e-203, 1.05824214e-150, 1.17421788e-122, ...,\n",
       "        4.93332991e-170, 1.06091453e-191, 7.32989675e-204],\n",
       "       [1.17168366e-156, 1.00643402e-152, 3.72235551e-158, ...,\n",
       "        4.67394216e-141, 8.00419600e-174, 6.26580488e-171],\n",
       "       [2.78212096e-155, 1.08686225e-180, 5.69258488e-192, ...,\n",
       "        2.42419642e-159, 3.86004957e-188, 7.64327165e-112],\n",
       "       ...,\n",
       "       [2.67451646e-105, 2.71072200e-093, 1.91153142e-142, ...,\n",
       "        2.42757458e-163, 3.35363696e-121, 1.44116514e-114],\n",
       "       [1.68179142e-160, 6.42721325e-158, 4.59639033e-151, ...,\n",
       "        7.88974860e-155, 2.89946795e-145, 2.16222971e-149],\n",
       "       [2.17525226e-115, 2.47559895e-110, 7.83849252e-138, ...,\n",
       "        1.54931709e-120, 5.70752661e-152, 2.08768229e-130]])"
      ]
     },
     "execution_count": 51,
     "metadata": {},
     "output_type": "execute_result"
    }
   ],
   "source": [
    "probs[dataset['y_cmp_val']]"
   ]
  },
  {
   "cell_type": "code",
   "execution_count": null,
   "metadata": {},
   "outputs": [],
   "source": [
    "dataset['y_cmp_val']"
   ]
  },
  {
   "cell_type": "code",
   "execution_count": null,
   "metadata": {},
   "outputs": [],
   "source": []
  }
 ],
 "metadata": {
  "interpreter": {
   "hash": "5fe6ca38b531acce9745ef8eb50338f8e5d65d428710d131aa398878dc982c83"
  },
  "kernelspec": {
   "display_name": "Python 3.8.10 ('venv')",
   "language": "python",
   "name": "python3"
  },
  "language_info": {
   "codemirror_mode": {
    "name": "ipython",
    "version": 3
   },
   "file_extension": ".py",
   "mimetype": "text/x-python",
   "name": "python",
   "nbconvert_exporter": "python",
   "pygments_lexer": "ipython3",
   "version": "3.8.10"
  },
  "orig_nbformat": 4
 },
 "nbformat": 4,
 "nbformat_minor": 2
}
