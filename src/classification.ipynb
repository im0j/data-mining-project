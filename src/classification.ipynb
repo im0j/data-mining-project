{
 "cells": [
  {
   "cell_type": "code",
   "execution_count": 2,
   "id": "4b8d3b03",
   "metadata": {},
   "outputs": [],
   "source": [
    "from itertools import chain\n",
    "from pathlib import Path\n",
    "import pickle\n",
    "\n",
    "import matplotlib.pyplot as plt\n",
    "from sklearn.preprocessing import MultiLabelBinarizer\n",
    "from sklearn.ensemble import RandomForestClassifier\n",
    "from sklearn.linear_model import LogisticRegression\n",
    "from sklearn.naive_bayes import MultinomialNB\n",
    "from sklearn.svm import LinearSVC\n",
    "from sklearn.metrics import confusion_matrix, accuracy_score, precision_score"
   ]
  },
  {
   "cell_type": "code",
   "execution_count": 6,
   "id": "180e4023",
   "metadata": {},
   "outputs": [],
   "source": [
    "import numpy as np"
   ]
  },
  {
   "cell_type": "code",
   "execution_count": 3,
   "id": "970e7a2c",
   "metadata": {},
   "outputs": [],
   "source": [
    "datapath = Path('..', 'data')"
   ]
  },
  {
   "cell_type": "code",
   "execution_count": 9,
   "id": "8313a474",
   "metadata": {},
   "outputs": [],
   "source": [
    "with open(datapath / 'dataset.pkl', 'rb') as f:\n",
    "    dataset = pickle.load(f)"
   ]
  },
  {
   "cell_type": "code",
   "execution_count": 4,
   "id": "98735935",
   "metadata": {},
   "outputs": [],
   "source": [
    "with open(datapath / 'cuisine.pkl', 'rb') as f:\n",
    "    cuisine = pickle.load(f)\n",
    "\n",
    "with open(datapath / 'ingredient.pkl', 'rb') as f:\n",
    "    ingredient = pickle.load(f)"
   ]
  },
  {
   "cell_type": "code",
   "execution_count": 7,
   "id": "24da4f1f",
   "metadata": {},
   "outputs": [],
   "source": [
    "cuisine.requires_grad = False\n",
    "ingredient.requires_grad = False\n",
    "\n",
    "np_cui = np.array(cuisine)\n",
    "np_ing = np.array(ingredient)"
   ]
  },
  {
   "cell_type": "code",
   "execution_count": 123,
   "id": "bf197446",
   "metadata": {},
   "outputs": [],
   "source": [
    "encoder = MultiLabelBinarizer()\n",
    "encoder.fit([range(len(dataset['ingredient_codes']))])\n",
    "y_train = dataset['y_train']\n",
    "y_val = dataset['y_cls_val']"
   ]
  },
  {
   "cell_type": "code",
   "execution_count": 124,
   "id": "2d843562",
   "metadata": {},
   "outputs": [],
   "source": [
    "X_train = []\n",
    "X_val = []\n",
    "\n",
    "for data in dataset['X_train']:\n",
    "    dd = []\n",
    "    for ing in data:\n",
    "        dd.append(np_ing[ing])\n",
    "    X_train.append(np.array(dd).mean(axis = 0))\n",
    "    \n",
    "for data in dataset['X_cls_val']:\n",
    "    dd = []\n",
    "    for ing in data:\n",
    "        dd.append(np_ing[ing])\n",
    "    X_val.append(np.array(dd).mean(axis = 0))"
   ]
  },
  {
   "cell_type": "code",
   "execution_count": 125,
   "id": "04fa549e",
   "metadata": {},
   "outputs": [],
   "source": [
    "X_train = np.array(X_train)\n",
    "X_val = np.array(X_val)"
   ]
  },
  {
   "cell_type": "code",
   "execution_count": 126,
   "id": "56961e04",
   "metadata": {},
   "outputs": [],
   "source": [
    "classifier = RandomForestClassifier(n_estimators=200, n_jobs=-1)\n",
    "classifier.fit(X_train, y_train)\n",
    "y_pred = classifier.predict(X_val)"
   ]
  },
  {
   "cell_type": "code",
   "execution_count": 127,
   "id": "9a987b8d",
   "metadata": {},
   "outputs": [
    {
     "data": {
      "image/png": "[encoded data removed]",
      "text/plain": [
       "<Figure size 288x288 with 2 Axes>"
      ]
     },
     "metadata": {
      "needs_background": "light"
     },
     "output_type": "display_data"
    }
   ],
   "source": [
    "confusion = confusion_matrix(y_val, y_pred, normalize='pred')\n",
    "plt.matshow(confusion, vmin=0, vmax=1)\n",
    "plt.colorbar()\n",
    "plt.show()"
   ]
  },
  {
   "cell_type": "code",
   "execution_count": 128,
   "id": "baa17eab",
   "metadata": {},
   "outputs": [
    {
     "name": "stderr",
     "output_type": "stream",
     "text": [
      "/mnt/daeho715/anaconda3/envs/pytorch/lib/python3.7/site-packages/sklearn/metrics/_classification.py:1308: UndefinedMetricWarning: Precision is ill-defined and being set to 0.0 in labels with no predicted samples. Use `zero_division` parameter to control this behavior.\n",
      "  _warn_prf(average, modifier, msg_start, len(result))\n"
     ]
    },
    {
     "data": {
      "text/plain": [
       "(0.4738786952089704, 0.5661673397346232)"
      ]
     },
     "execution_count": 128,
     "metadata": {},
     "output_type": "execute_result"
    }
   ],
   "source": [
    "accuracy_score(y_val, y_pred), precision_score(y_val, y_pred, average='weighted')"
   ]
  },
  {
   "cell_type": "code",
   "execution_count": 71,
   "id": "60df8d46",
   "metadata": {},
   "outputs": [],
   "source": [
    "classifier = LogisticRegression(C=1, max_iter=1000, n_jobs=-1)\n",
    "classifier.fit(X_train, y_train)\n",
    "y_pred = classifier.predict(X_val)"
   ]
  },
  {
   "cell_type": "code",
   "execution_count": 72,
   "id": "876502e8",
   "metadata": {},
   "outputs": [
    {
     "data": {
      "image/png": "[encoded data removed]",
      "text/plain": [
       "<Figure size 288x288 with 2 Axes>"
      ]
     },
     "metadata": {
      "needs_background": "light"
     },
     "output_type": "display_data"
    }
   ],
   "source": [
    "confusion = confusion_matrix(y_val, y_pred, normalize='pred')\n",
    "plt.matshow(confusion, vmin=0, vmax=1)\n",
    "plt.colorbar()\n",
    "plt.show()"
   ]
  },
  {
   "cell_type": "code",
   "execution_count": 73,
   "id": "66011474",
   "metadata": {},
   "outputs": [
    {
     "data": {
      "text/plain": [
       "(0.6379969418960245, 0.6278895642349006)"
      ]
     },
     "execution_count": 73,
     "metadata": {},
     "output_type": "execute_result"
    }
   ],
   "source": [
    "accuracy_score(y_val, y_pred), precision_score(y_val, y_pred, average='weighted')"
   ]
  },
  {
   "cell_type": "code",
   "execution_count": 82,
   "id": "11b60814",
   "metadata": {},
   "outputs": [],
   "source": [
    "classifier = LinearSVC(C=0.3, max_iter=10000)\n",
    "classifier.fit(X_train, y_train)\n",
    "y_pred = classifier.predict(X_val)"
   ]
  },
  {
   "cell_type": "code",
   "execution_count": 83,
   "id": "abaf19af",
   "metadata": {},
   "outputs": [
    {
     "data": {
      "image/png": "[encoded data removed]",
      "text/plain": [
       "<Figure size 288x288 with 2 Axes>"
      ]
     },
     "metadata": {
      "needs_background": "light"
     },
     "output_type": "display_data"
    }
   ],
   "source": [
    "confusion = confusion_matrix(y_val, y_pred, normalize='pred')\n",
    "plt.matshow(confusion, vmin=0, vmax=1)\n",
    "plt.colorbar()\n",
    "plt.show()"
   ]
  },
  {
   "cell_type": "code",
   "execution_count": 84,
   "id": "ab7248d0",
   "metadata": {},
   "outputs": [
    {
     "data": {
      "text/plain": [
       "(0.634683995922528, 0.6292616950867742)"
      ]
     },
     "execution_count": 84,
     "metadata": {},
     "output_type": "execute_result"
    }
   ],
   "source": [
    "accuracy_score(y_val, y_pred), precision_score(y_val, y_pred, average='weighted')"
   ]
  },
  {
   "cell_type": "code",
   "execution_count": 85,
   "id": "18072141",
   "metadata": {},
   "outputs": [],
   "source": [
    "import torch\n",
    "import torch.nn as nn\n",
    "import torch.nn.functional as F\n",
    "from torch.utils.data import TensorDataset, DataLoader"
   ]
  },
  {
   "cell_type": "code",
   "execution_count": 86,
   "id": "6530ad9a",
   "metadata": {},
   "outputs": [],
   "source": [
    "device = torch.device('cuda')"
   ]
  },
  {
   "cell_type": "code",
   "execution_count": 87,
   "id": "e816aa03",
   "metadata": {},
   "outputs": [],
   "source": [
    "savepath = Path('..', 'save')\n",
    "savepath.mkdir(exist_ok=True)"
   ]
  },
  {
   "cell_type": "code",
   "execution_count": 115,
   "id": "11fa51d9",
   "metadata": {},
   "outputs": [],
   "source": [
    "class Net(nn.Module):\n",
    "    def __init__(self, in_feats, out_feats, p_dropout):\n",
    "        super().__init__()\n",
    "        self.linear_relu_stack = nn.Sequential(\n",
    "            nn.Dropout(p_dropout),\n",
    "            nn.Linear(in_feats, 512),\n",
    "            nn.Dropout(p_dropout),\n",
    "            nn.Linear(512, 512),\n",
    "            nn.ReLU(),\n",
    "            nn.Dropout(p_dropout),\n",
    "            nn.Linear(512, out_feats),\n",
    "        )\n",
    "\n",
    "    def forward(self, X):\n",
    "        logits = self.linear_relu_stack(X)\n",
    "        return logits"
   ]
  },
  {
   "cell_type": "code",
   "execution_count": 116,
   "id": "f475fade",
   "metadata": {},
   "outputs": [],
   "source": [
    "dataloader = DataLoader(TensorDataset(\n",
    "    torch.tensor(X_train, dtype=torch.float, device=device),\n",
    "    torch.tensor(y_train, dtype=torch.long, device=device),\n",
    "), shuffle=True, batch_size=8)\n",
    "valloader = DataLoader(TensorDataset(\n",
    "    torch.tensor(X_val, dtype=torch.float, device=device),\n",
    "    torch.tensor(y_val, dtype=torch.long, device=device),\n",
    "), batch_size=64)"
   ]
  },
  {
   "cell_type": "code",
   "execution_count": 117,
   "id": "7804ff1c",
   "metadata": {},
   "outputs": [],
   "source": [
    "net = Net(\n",
    "    256,\n",
    "    len(dataset['cuisine_codes']),\n",
    "    p_dropout=0.5\n",
    ").to(device)\n",
    "optimizer = torch.optim.Adam(net.parameters(), lr=3e-4)"
   ]
  },
  {
   "cell_type": "code",
   "execution_count": 118,
   "id": "9ee36802",
   "metadata": {},
   "outputs": [
    {
     "name": "stdout",
     "output_type": "stream",
     "text": [
      "Epoch 20 | Train loss: 2.0021417140960693 | Val loss: 1.5599676370620728\n",
      "Epoch 21 | Train loss: 1.7868720293045044 | Val loss: 1.4763295650482178\n",
      "Epoch 22 | Train loss: 1.7597464323043823 | Val loss: 1.4333062171936035\n",
      "Epoch 23 | Train loss: 1.742803692817688 | Val loss: 1.4215929508209229\n",
      "Epoch 24 | Train loss: 1.735541820526123 | Val loss: 1.4196341037750244\n",
      "Epoch 25 | Train loss: 1.7193516492843628 | Val loss: 1.4243113994598389\n",
      "Epoch 26 | Train loss: 1.71531081199646 | Val loss: 1.4117982387542725\n",
      "Epoch 27 | Train loss: 1.7116334438323975 | Val loss: 1.3981068134307861\n",
      "Epoch 28 | Train loss: 1.7067480087280273 | Val loss: 1.40183424949646\n",
      "Epoch 29 | Train loss: 1.6887363195419312 | Val loss: 1.3919910192489624\n",
      "Epoch 30 | Train loss: 1.7096072435379028 | Val loss: 1.3963133096694946\n",
      "Epoch 31 | Train loss: 1.698947787284851 | Val loss: 1.4007561206817627\n",
      "Epoch 32 | Train loss: 1.6847940683364868 | Val loss: 1.408172607421875\n",
      "Epoch 33 | Train loss: 1.6830495595932007 | Val loss: 1.396838903427124\n",
      "Epoch 34 | Train loss: 1.7007579803466797 | Val loss: 1.4170584678649902\n",
      "Epoch 35 | Train loss: 1.6824606657028198 | Val loss: 1.4120466709136963\n",
      "Epoch 36 | Train loss: 1.6897094249725342 | Val loss: 1.3889974355697632\n",
      "Epoch 37 | Train loss: 1.6678380966186523 | Val loss: 1.3898481130599976\n",
      "Epoch 38 | Train loss: 1.6866729259490967 | Val loss: 1.3971679210662842\n",
      "Epoch 39 | Train loss: 1.681053876876831 | Val loss: 1.4029738903045654\n"
     ]
    }
   ],
   "source": [
    "best_val_loss = float('inf')\n",
    "\n",
    "for epoch in range(20, 40):\n",
    "    train_loss = 0\n",
    "    val_loss = 0\n",
    "\n",
    "    net.train()\n",
    "    for X, y in dataloader:\n",
    "        y_prob = net(X)\n",
    "        loss = F.cross_entropy(y_prob, y)\n",
    "\n",
    "        train_loss += loss\n",
    "        optimizer.zero_grad()\n",
    "        loss.backward()\n",
    "        optimizer.step()\n",
    "\n",
    "    net.eval()\n",
    "    with torch.no_grad():\n",
    "        for X, y in valloader:\n",
    "            y_prob = net(X)\n",
    "            loss = F.cross_entropy(y_prob, y)\n",
    "\n",
    "            val_loss += loss\n",
    "\n",
    "    train_loss /= len(dataloader)\n",
    "    val_loss /= len(valloader)\n",
    "\n",
    "    if val_loss < best_val_loss:\n",
    "        best_val_loss = val_loss\n",
    "        torch.save(net.state_dict(), savepath / f'_300_300_{epoch}.pt')\n",
    "\n",
    "    print(f'Epoch {epoch} | Train loss: {train_loss} | Val loss: {val_loss}', flush=True)"
   ]
  },
  {
   "cell_type": "code",
   "execution_count": 97,
   "id": "9b0edb7e",
   "metadata": {},
   "outputs": [
    {
     "ename": "FileNotFoundError",
     "evalue": "[Errno 2] No such file or directory: '../save/_300_300_16.pt'",
     "output_type": "error",
     "traceback": [
      "\u001b[0;31m---------------------------------------------------------------------------\u001b[0m",
      "\u001b[0;31mFileNotFoundError\u001b[0m                         Traceback (most recent call last)",
      "\u001b[0;32m/tmp/ipykernel_73722/4274565542.py\u001b[0m in \u001b[0;36m<module>\u001b[0;34m\u001b[0m\n\u001b[0;32m----> 1\u001b[0;31m \u001b[0mnet\u001b[0m\u001b[0;34m.\u001b[0m\u001b[0mload_state_dict\u001b[0m\u001b[0;34m(\u001b[0m\u001b[0mtorch\u001b[0m\u001b[0;34m.\u001b[0m\u001b[0mload\u001b[0m\u001b[0;34m(\u001b[0m\u001b[0msavepath\u001b[0m \u001b[0;34m/\u001b[0m \u001b[0;34m'_300_300_16.pt'\u001b[0m\u001b[0;34m)\u001b[0m\u001b[0;34m)\u001b[0m\u001b[0;34m\u001b[0m\u001b[0;34m\u001b[0m\u001b[0m\n\u001b[0m\u001b[1;32m      2\u001b[0m \u001b[0mnet\u001b[0m\u001b[0;34m.\u001b[0m\u001b[0meval\u001b[0m\u001b[0;34m(\u001b[0m\u001b[0;34m)\u001b[0m\u001b[0;34m\u001b[0m\u001b[0;34m\u001b[0m\u001b[0m\n",
      "\u001b[0;32m~/anaconda3/envs/pytorch/lib/python3.7/site-packages/torch/serialization.py\u001b[0m in \u001b[0;36mload\u001b[0;34m(f, map_location, pickle_module, **pickle_load_args)\u001b[0m\n\u001b[1;32m    592\u001b[0m         \u001b[0mpickle_load_args\u001b[0m\u001b[0;34m[\u001b[0m\u001b[0;34m'encoding'\u001b[0m\u001b[0;34m]\u001b[0m \u001b[0;34m=\u001b[0m \u001b[0;34m'utf-8'\u001b[0m\u001b[0;34m\u001b[0m\u001b[0;34m\u001b[0m\u001b[0m\n\u001b[1;32m    593\u001b[0m \u001b[0;34m\u001b[0m\u001b[0m\n\u001b[0;32m--> 594\u001b[0;31m     \u001b[0;32mwith\u001b[0m \u001b[0m_open_file_like\u001b[0m\u001b[0;34m(\u001b[0m\u001b[0mf\u001b[0m\u001b[0;34m,\u001b[0m \u001b[0;34m'rb'\u001b[0m\u001b[0;34m)\u001b[0m \u001b[0;32mas\u001b[0m \u001b[0mopened_file\u001b[0m\u001b[0;34m:\u001b[0m\u001b[0;34m\u001b[0m\u001b[0;34m\u001b[0m\u001b[0m\n\u001b[0m\u001b[1;32m    595\u001b[0m         \u001b[0;32mif\u001b[0m \u001b[0m_is_zipfile\u001b[0m\u001b[0;34m(\u001b[0m\u001b[0mopened_file\u001b[0m\u001b[0;34m)\u001b[0m\u001b[0;34m:\u001b[0m\u001b[0;34m\u001b[0m\u001b[0;34m\u001b[0m\u001b[0m\n\u001b[1;32m    596\u001b[0m             \u001b[0;31m# The zipfile reader is going to advance the current file position.\u001b[0m\u001b[0;34m\u001b[0m\u001b[0;34m\u001b[0m\u001b[0;34m\u001b[0m\u001b[0m\n",
      "\u001b[0;32m~/anaconda3/envs/pytorch/lib/python3.7/site-packages/torch/serialization.py\u001b[0m in \u001b[0;36m_open_file_like\u001b[0;34m(name_or_buffer, mode)\u001b[0m\n\u001b[1;32m    228\u001b[0m \u001b[0;32mdef\u001b[0m \u001b[0m_open_file_like\u001b[0m\u001b[0;34m(\u001b[0m\u001b[0mname_or_buffer\u001b[0m\u001b[0;34m,\u001b[0m \u001b[0mmode\u001b[0m\u001b[0;34m)\u001b[0m\u001b[0;34m:\u001b[0m\u001b[0;34m\u001b[0m\u001b[0;34m\u001b[0m\u001b[0m\n\u001b[1;32m    229\u001b[0m     \u001b[0;32mif\u001b[0m \u001b[0m_is_path\u001b[0m\u001b[0;34m(\u001b[0m\u001b[0mname_or_buffer\u001b[0m\u001b[0;34m)\u001b[0m\u001b[0;34m:\u001b[0m\u001b[0;34m\u001b[0m\u001b[0;34m\u001b[0m\u001b[0m\n\u001b[0;32m--> 230\u001b[0;31m         \u001b[0;32mreturn\u001b[0m \u001b[0m_open_file\u001b[0m\u001b[0;34m(\u001b[0m\u001b[0mname_or_buffer\u001b[0m\u001b[0;34m,\u001b[0m \u001b[0mmode\u001b[0m\u001b[0;34m)\u001b[0m\u001b[0;34m\u001b[0m\u001b[0;34m\u001b[0m\u001b[0m\n\u001b[0m\u001b[1;32m    231\u001b[0m     \u001b[0;32melse\u001b[0m\u001b[0;34m:\u001b[0m\u001b[0;34m\u001b[0m\u001b[0;34m\u001b[0m\u001b[0m\n\u001b[1;32m    232\u001b[0m         \u001b[0;32mif\u001b[0m \u001b[0;34m'w'\u001b[0m \u001b[0;32min\u001b[0m \u001b[0mmode\u001b[0m\u001b[0;34m:\u001b[0m\u001b[0;34m\u001b[0m\u001b[0;34m\u001b[0m\u001b[0m\n",
      "\u001b[0;32m~/anaconda3/envs/pytorch/lib/python3.7/site-packages/torch/serialization.py\u001b[0m in \u001b[0;36m__init__\u001b[0;34m(self, name, mode)\u001b[0m\n\u001b[1;32m    209\u001b[0m \u001b[0;32mclass\u001b[0m \u001b[0m_open_file\u001b[0m\u001b[0;34m(\u001b[0m\u001b[0m_opener\u001b[0m\u001b[0;34m)\u001b[0m\u001b[0;34m:\u001b[0m\u001b[0;34m\u001b[0m\u001b[0;34m\u001b[0m\u001b[0m\n\u001b[1;32m    210\u001b[0m     \u001b[0;32mdef\u001b[0m \u001b[0m__init__\u001b[0m\u001b[0;34m(\u001b[0m\u001b[0mself\u001b[0m\u001b[0;34m,\u001b[0m \u001b[0mname\u001b[0m\u001b[0;34m,\u001b[0m \u001b[0mmode\u001b[0m\u001b[0;34m)\u001b[0m\u001b[0;34m:\u001b[0m\u001b[0;34m\u001b[0m\u001b[0;34m\u001b[0m\u001b[0m\n\u001b[0;32m--> 211\u001b[0;31m         \u001b[0msuper\u001b[0m\u001b[0;34m(\u001b[0m\u001b[0m_open_file\u001b[0m\u001b[0;34m,\u001b[0m \u001b[0mself\u001b[0m\u001b[0;34m)\u001b[0m\u001b[0;34m.\u001b[0m\u001b[0m__init__\u001b[0m\u001b[0;34m(\u001b[0m\u001b[0mopen\u001b[0m\u001b[0;34m(\u001b[0m\u001b[0mname\u001b[0m\u001b[0;34m,\u001b[0m \u001b[0mmode\u001b[0m\u001b[0;34m)\u001b[0m\u001b[0;34m)\u001b[0m\u001b[0;34m\u001b[0m\u001b[0;34m\u001b[0m\u001b[0m\n\u001b[0m\u001b[1;32m    212\u001b[0m \u001b[0;34m\u001b[0m\u001b[0m\n\u001b[1;32m    213\u001b[0m     \u001b[0;32mdef\u001b[0m \u001b[0m__exit__\u001b[0m\u001b[0;34m(\u001b[0m\u001b[0mself\u001b[0m\u001b[0;34m,\u001b[0m \u001b[0;34m*\u001b[0m\u001b[0margs\u001b[0m\u001b[0;34m)\u001b[0m\u001b[0;34m:\u001b[0m\u001b[0;34m\u001b[0m\u001b[0;34m\u001b[0m\u001b[0m\n",
      "\u001b[0;31mFileNotFoundError\u001b[0m: [Errno 2] No such file or directory: '../save/_300_300_16.pt'"
     ]
    }
   ],
   "source": [
    "net.load_state_dict(torch.load(savepath / '_300_300_16.pt'))\n",
    "net.eval()"
   ]
  },
  {
   "cell_type": "code",
   "execution_count": 119,
   "id": "f6314ac1",
   "metadata": {},
   "outputs": [],
   "source": [
    "y_logits = net(torch.tensor(X_val_m, dtype=torch.float, device=device))\n",
    "y_pred = torch.argmax(y_logits, dim=-1).detach().cpu().numpy()"
   ]
  },
  {
   "cell_type": "code",
   "execution_count": 120,
   "id": "0b1356de",
   "metadata": {},
   "outputs": [
    {
     "data": {
      "image/png": "[encoded data removed]",
      "text/plain": [
       "<Figure size 288x288 with 2 Axes>"
      ]
     },
     "metadata": {
      "needs_background": "light"
     },
     "output_type": "display_data"
    }
   ],
   "source": [
    "confusion = confusion_matrix(y_val, y_pred, normalize='pred')\n",
    "plt.matshow(confusion, vmin=0, vmax=1)\n",
    "plt.colorbar()\n",
    "plt.show()"
   ]
  },
  {
   "cell_type": "code",
   "execution_count": 121,
   "id": "7d18575f",
   "metadata": {},
   "outputs": [
    {
     "data": {
      "text/plain": [
       "(0.6160805300713558, 0.6374818477973658)"
      ]
     },
     "execution_count": 121,
     "metadata": {},
     "output_type": "execute_result"
    }
   ],
   "source": [
    "accuracy_score(y_val, y_pred), precision_score(y_val, y_pred, average='weighted')"
   ]
  },
  {
   "cell_type": "code",
   "execution_count": null,
   "id": "54344fcf",
   "metadata": {},
   "outputs": [],
   "source": []
  }
 ],
 "metadata": {
  "kernelspec": {
   "display_name": "pytorch",
   "language": "python",
   "name": "pytorch"
  },
  "language_info": {
   "codemirror_mode": {
    "name": "ipython",
    "version": 3
   },
   "file_extension": ".py",
   "mimetype": "text/x-python",
   "name": "python",
   "nbconvert_exporter": "python",
   "pygments_lexer": "ipython3",
   "version": "3.7.10"
  }
 },
 "nbformat": 4,
 "nbformat_minor": 5
}
