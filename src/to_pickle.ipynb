{
 "cells": [
  {
   "cell_type": "code",
   "execution_count": 10,
   "metadata": {},
   "outputs": [],
   "source": [
    "from pathlib import Path\n",
    "import pickle"
   ]
  },
  {
   "cell_type": "code",
   "execution_count": 11,
   "metadata": {},
   "outputs": [],
   "source": [
    "datapath = Path('..', 'data')"
   ]
  },
  {
   "cell_type": "code",
   "execution_count": 12,
   "metadata": {},
   "outputs": [],
   "source": [
    "ingredient_codes = {}\n",
    "ingredient_names = {}\n",
    "\n",
    "with open(datapath / 'node_ingredient.txt') as f:\n",
    "    for i, line in enumerate(f):\n",
    "        ingredient = line.strip()\n",
    "        ingredient_codes[ingredient] = i\n",
    "        ingredient_names[i] = ingredient"
   ]
  },
  {
   "cell_type": "code",
   "execution_count": 13,
   "metadata": {},
   "outputs": [],
   "source": [
    "cuisine_codes = {}\n",
    "cuisine_names = {}\n",
    "X_train = []\n",
    "y_train = []\n",
    "\n",
    "with open(datapath / 'train.csv') as f:\n",
    "    for line in f:\n",
    "        *ingredients, cuisine = line.rstrip().split(',')\n",
    "        ingredients = list(map(int, ingredients))\n",
    "        if cuisine not in cuisine_codes:\n",
    "            code = len(cuisine_codes)\n",
    "            cuisine_codes[cuisine] = code\n",
    "            cuisine_names[code] = cuisine\n",
    "        cuisine = cuisine_codes[cuisine]\n",
    "        X_train.append(ingredients)\n",
    "        y_train.append(cuisine)"
   ]
  },
  {
   "cell_type": "code",
   "execution_count": 14,
   "metadata": {},
   "outputs": [],
   "source": [
    "X_cls_val = []\n",
    "y_cls_val = []\n",
    "\n",
    "with open(datapath / 'validation_classification_question.csv') as f:\n",
    "    for line in f:\n",
    "        ingredients = list(map(int, line.split(',')))\n",
    "        X_cls_val.append(ingredients)\n",
    "\n",
    "with open(datapath / 'validation_classification_answer.csv') as f:\n",
    "    for line in f:\n",
    "        cuisine = line.rstrip()\n",
    "        cuisine = cuisine_codes[cuisine]\n",
    "        y_cls_val.append(cuisine)"
   ]
  },
  {
   "cell_type": "code",
   "execution_count": 15,
   "metadata": {},
   "outputs": [],
   "source": [
    "X_cmp_val = []\n",
    "y_cmp_val = []\n",
    "\n",
    "with open(datapath / 'validation_completion_question.csv') as f:\n",
    "    for line in f:\n",
    "        ingredients = list(map(int, line.split(',')))\n",
    "        X_cmp_val.append(ingredients)\n",
    "\n",
    "with open(datapath / 'validation_completion_answer.csv') as f:\n",
    "    for i, line in enumerate(f):\n",
    "        ingredient = int(line)\n",
    "        y_cmp_val.append(ingredient)"
   ]
  },
  {
   "cell_type": "code",
   "execution_count": 16,
   "metadata": {},
   "outputs": [],
   "source": [
    "X_cls_test = []\n",
    "X_cmp_test = []\n",
    "\n",
    "with open(datapath / 'test_classification_question.csv') as f:\n",
    "    for line in f:\n",
    "        ingredients = list(map(int, line.split(',')))\n",
    "        X_cls_test.append(ingredients)\n",
    "\n",
    "with open(datapath / 'test_completion_question.csv') as f:\n",
    "    for line in f:\n",
    "        ingredients = list(map(int, line.split(',')))\n",
    "        X_cmp_test.append(ingredients)"
   ]
  },
  {
   "cell_type": "code",
   "execution_count": 17,
   "metadata": {},
   "outputs": [],
   "source": [
    "dataset = {\n",
    "    'ingredient_codes': ingredient_codes,\n",
    "    'ingredient_names': ingredient_names,\n",
    "    'cuisine_codes': cuisine_codes,\n",
    "    'cuisine_names': cuisine_names,\n",
    "    'X_train': X_train,\n",
    "    'y_train': y_train,\n",
    "    'X_cls_val': X_cls_val,\n",
    "    'y_cls_val': y_cls_val,\n",
    "    'X_cmp_val': X_cmp_val,\n",
    "    'y_cmp_val': y_cmp_val,\n",
    "    'X_cls_test': X_cls_test,\n",
    "    'X_cmp_test': X_cmp_test,\n",
    "}\n",
    "\n",
    "with open(datapath / 'dataset.pkl', 'wb') as f:\n",
    "    pickle.dump(dataset, f)"
   ]
  }
 ],
 "metadata": {
  "interpreter": {
   "hash": "5fe6ca38b531acce9745ef8eb50338f8e5d65d428710d131aa398878dc982c83"
  },
  "kernelspec": {
   "display_name": "Python 3.8.10 ('venv')",
   "language": "python",
   "name": "python3"
  },
  "language_info": {
   "codemirror_mode": {
    "name": "ipython",
    "version": 3
   },
   "file_extension": ".py",
   "mimetype": "text/x-python",
   "name": "python",
   "nbconvert_exporter": "python",
   "pygments_lexer": "ipython3",
   "version": "3.8.10"
  },
  "orig_nbformat": 4
 },
 "nbformat": 4,
 "nbformat_minor": 2
}
